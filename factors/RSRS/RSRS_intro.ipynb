{
 "cells": [
  {
   "cell_type": "code",
   "execution_count": 2,
   "id": "8d81f605-55ba-402c-930a-45a2a86449f1",
   "metadata": {},
   "outputs": [],
   "source": [
    "import pandas as pd\n",
    "import numpy as np\n",
    "from scipy.io import loadmat as loadmat\n",
    "import os\n",
    "import matplotlib.pyplot as plt\n",
    "from tqdm import tqdm\n",
    "import warnings\n",
    "import matplotlib\n",
    "matplotlib.rcParams['font.sans-serif'] = ['SimHei']\n",
    "matplotlib.rcParams['font.family'] = 'sans-serif'\n",
    "matplotlib.rcParams['axes.unicode_minus'] = False\n",
    "\n",
    "# Suppress warnings`\n",
    "warnings.filterwarnings(\"ignore\")"
   ]
  },
  {
   "cell_type": "code",
   "execution_count": 1,
   "id": "d81c41bd-88a7-4d4a-99a6-780f7c3863b2",
   "metadata": {},
   "outputs": [
    {
     "name": "stderr",
     "output_type": "stream",
     "text": [
      "C:\\Users\\1\\AppData\\Local\\Temp\\ipykernel_4020\\713651319.py:1: DeprecationWarning: the imp module is deprecated in favour of importlib and slated for removal in Python 3.12; see the module's documentation for alternative uses\n",
      "  import imp\n"
     ]
    }
   ],
   "source": [
    "import imp"
   ]
  },
  {
   "cell_type": "code",
   "execution_count": 3,
   "id": "563981f2-f584-450c-8285-f9b7760c4c50",
   "metadata": {
    "collapsed": true,
    "jupyter": {
     "outputs_hidden": true
    },
    "tags": []
   },
   "outputs": [
    {
     "ename": "ValueError",
     "evalue": "invalid literal for int() with base 10: '2005-01-04'",
     "output_type": "error",
     "traceback": [
      "\u001b[1;31m---------------------------------------------------------------------------\u001b[0m",
      "\u001b[1;31mValueError\u001b[0m                                Traceback (most recent call last)",
      "Cell \u001b[1;32mIn[3], line 1\u001b[0m\n\u001b[1;32m----> 1\u001b[0m \u001b[38;5;28;01mimport\u001b[39;00m \u001b[38;5;21;01mxy\u001b[39;00m\n",
      "File \u001b[1;32mE:\\PyProject\\factors\\RSRS\\xy.py:59\u001b[0m\n\u001b[0;32m     57\u001b[0m index_tov \u001b[38;5;241m=\u001b[39m index_tov\u001b[38;5;241m.\u001b[39mmask(index_tov\u001b[38;5;241m==\u001b[39m\u001b[38;5;241m0\u001b[39m,np\u001b[38;5;241m.\u001b[39mnan)\n\u001b[0;32m     58\u001b[0m index_tov\u001b[38;5;241m.\u001b[39mindex \u001b[38;5;241m=\u001b[39m [\u001b[38;5;124m'\u001b[39m\u001b[38;5;124m50\u001b[39m\u001b[38;5;124m'\u001b[39m,\u001b[38;5;124m'\u001b[39m\u001b[38;5;124m300\u001b[39m\u001b[38;5;124m'\u001b[39m,\u001b[38;5;124m'\u001b[39m\u001b[38;5;124m500\u001b[39m\u001b[38;5;124m'\u001b[39m,\u001b[38;5;124m'\u001b[39m\u001b[38;5;124m1000\u001b[39m\u001b[38;5;124m'\u001b[39m]\n\u001b[1;32m---> 59\u001b[0m index_tov\u001b[38;5;241m.\u001b[39mcolumns \u001b[38;5;241m=\u001b[39m [\u001b[38;5;28mstr\u001b[39m(\u001b[38;5;28mint\u001b[39m(i))[:\u001b[38;5;241m4\u001b[39m] \u001b[38;5;241m+\u001b[39m \u001b[38;5;124m'\u001b[39m\u001b[38;5;124m-\u001b[39m\u001b[38;5;124m'\u001b[39m \u001b[38;5;241m+\u001b[39m \u001b[38;5;28mstr\u001b[39m(\u001b[38;5;28mint\u001b[39m(i))[\u001b[38;5;241m4\u001b[39m:\u001b[38;5;241m6\u001b[39m] \u001b[38;5;241m+\u001b[39m \u001b[38;5;124m'\u001b[39m\u001b[38;5;124m-\u001b[39m\u001b[38;5;124m'\u001b[39m \u001b[38;5;241m+\u001b[39m \u001b[38;5;28mstr\u001b[39m(\u001b[38;5;28mint\u001b[39m(i))[\u001b[38;5;241m6\u001b[39m:] \u001b[38;5;28;01mfor\u001b[39;00m i \u001b[38;5;129;01min\u001b[39;00m index_tov\u001b[38;5;241m.\u001b[39mcolumns]\n\u001b[0;32m     61\u001b[0m \u001b[38;5;66;03m# 指数cl-cl收益率\u001b[39;00m\n\u001b[0;32m     62\u001b[0m cl \u001b[38;5;241m=\u001b[39m pd\u001b[38;5;241m.\u001b[39mread_csv(\u001b[38;5;124mr\u001b[39m\u001b[38;5;124m'\u001b[39m\u001b[38;5;124mE:\u001b[39m\u001b[38;5;124m\\\u001b[39m\u001b[38;5;124mPyProject\u001b[39m\u001b[38;5;124m\\\u001b[39m\u001b[38;5;124mindex_close.csv\u001b[39m\u001b[38;5;124m'\u001b[39m,index_col\u001b[38;5;241m=\u001b[39m\u001b[38;5;241m0\u001b[39m)\u001b[38;5;241m.\u001b[39mT\n",
      "File \u001b[1;32mE:\\PyProject\\factors\\RSRS\\xy.py:59\u001b[0m, in \u001b[0;36m<listcomp>\u001b[1;34m(.0)\u001b[0m\n\u001b[0;32m     57\u001b[0m index_tov \u001b[38;5;241m=\u001b[39m index_tov\u001b[38;5;241m.\u001b[39mmask(index_tov\u001b[38;5;241m==\u001b[39m\u001b[38;5;241m0\u001b[39m,np\u001b[38;5;241m.\u001b[39mnan)\n\u001b[0;32m     58\u001b[0m index_tov\u001b[38;5;241m.\u001b[39mindex \u001b[38;5;241m=\u001b[39m [\u001b[38;5;124m'\u001b[39m\u001b[38;5;124m50\u001b[39m\u001b[38;5;124m'\u001b[39m,\u001b[38;5;124m'\u001b[39m\u001b[38;5;124m300\u001b[39m\u001b[38;5;124m'\u001b[39m,\u001b[38;5;124m'\u001b[39m\u001b[38;5;124m500\u001b[39m\u001b[38;5;124m'\u001b[39m,\u001b[38;5;124m'\u001b[39m\u001b[38;5;124m1000\u001b[39m\u001b[38;5;124m'\u001b[39m]\n\u001b[1;32m---> 59\u001b[0m index_tov\u001b[38;5;241m.\u001b[39mcolumns \u001b[38;5;241m=\u001b[39m [\u001b[38;5;28mstr\u001b[39m(\u001b[38;5;28;43mint\u001b[39;49m\u001b[43m(\u001b[49m\u001b[43mi\u001b[49m\u001b[43m)\u001b[49m)[:\u001b[38;5;241m4\u001b[39m] \u001b[38;5;241m+\u001b[39m \u001b[38;5;124m'\u001b[39m\u001b[38;5;124m-\u001b[39m\u001b[38;5;124m'\u001b[39m \u001b[38;5;241m+\u001b[39m \u001b[38;5;28mstr\u001b[39m(\u001b[38;5;28mint\u001b[39m(i))[\u001b[38;5;241m4\u001b[39m:\u001b[38;5;241m6\u001b[39m] \u001b[38;5;241m+\u001b[39m \u001b[38;5;124m'\u001b[39m\u001b[38;5;124m-\u001b[39m\u001b[38;5;124m'\u001b[39m \u001b[38;5;241m+\u001b[39m \u001b[38;5;28mstr\u001b[39m(\u001b[38;5;28mint\u001b[39m(i))[\u001b[38;5;241m6\u001b[39m:] \u001b[38;5;28;01mfor\u001b[39;00m i \u001b[38;5;129;01min\u001b[39;00m index_tov\u001b[38;5;241m.\u001b[39mcolumns]\n\u001b[0;32m     61\u001b[0m \u001b[38;5;66;03m# 指数cl-cl收益率\u001b[39;00m\n\u001b[0;32m     62\u001b[0m cl \u001b[38;5;241m=\u001b[39m pd\u001b[38;5;241m.\u001b[39mread_csv(\u001b[38;5;124mr\u001b[39m\u001b[38;5;124m'\u001b[39m\u001b[38;5;124mE:\u001b[39m\u001b[38;5;124m\\\u001b[39m\u001b[38;5;124mPyProject\u001b[39m\u001b[38;5;124m\\\u001b[39m\u001b[38;5;124mindex_close.csv\u001b[39m\u001b[38;5;124m'\u001b[39m,index_col\u001b[38;5;241m=\u001b[39m\u001b[38;5;241m0\u001b[39m)\u001b[38;5;241m.\u001b[39mT\n",
      "\u001b[1;31mValueError\u001b[0m: invalid literal for int() with base 10: '2005-01-04'"
     ]
    }
   ],
   "source": [
    "import xy"
   ]
  },
  {
   "cell_type": "markdown",
   "id": "0c0fb585-229f-4e55-8f51-b9b8189a0724",
   "metadata": {
    "jupyter": {
     "source_hidden": true
    },
    "tags": []
   },
   "source": [
    "# $因子描述：RSRS$"
   ]
  },
  {
   "cell_type": "markdown",
   "id": "e9223223-0fe7-4ea8-a468-abf56f48e268",
   "metadata": {
    "tags": []
   },
   "source": [
    "***线性动量：拟合以下线性模型：high = beta×low + e，所得 beta×R^2***  \n",
    "反映"
   ]
  },
  {
   "cell_type": "markdown",
   "id": "69f939e6-9d98-4cf5-83da-dbfddbc5c134",
   "metadata": {
    "tags": []
   },
   "source": [
    "## 计算"
   ]
  },
  {
   "cell_type": "code",
   "execution_count": 10,
   "id": "ff3fbccd-1a50-48cc-b0fe-731a1b3bae55",
   "metadata": {},
   "outputs": [],
   "source": [
    "def cal_rsrs_d(data_low,data_high,data_op,data_cl,days,idx_name):\n",
    "    _low = xy.rolling_window(data_low,days)\n",
    "    _high = xy.rolling_window(data_high,days)\n",
    "    _op = xy.rolling_window(data_op,days)\n",
    "    _cl = xy.rolling_window(data_cl,days)\n",
    "\n",
    "    date = [ i[:10] for i in data_low.index][days-1:]\n",
    "\n",
    "    _rsrs = {}\n",
    "    count = 0\n",
    "    \n",
    "    for l, h, o, c in zip(_low,_high,_op,_cl):\n",
    "        slp, r = cal(l,h)\n",
    "        _rsrs[date[count]] = slp\n",
    "\n",
    "        count += 1\n",
    "\n",
    "    # (pd.Series(_rsrs).loc['2015-11-04':].shift(1)).rolling(20).mean().plot()\n",
    "    # pd.Series(xy.Index_rets.loc[idx_name,'2015-11-04':]).cumsum().rolling(20).mean().plot(secondary_y=True)\n",
    "    \n",
    "    corr = pd.Series(xy.Index_rets.loc[idx_name,:]).corr(pd.Series(_rsrs).loc[:].shift(1))\n",
    "    \n",
    "    print('corr:', corr,'mean:',pd.Series(_rsrs).mean(), 'std:', pd.Series(_rsrs).std())\n",
    "    \n",
    "    return pd.Series(_rsrs).loc['2015-11-04':].shift(1)"
   ]
  },
  {
   "cell_type": "code",
   "execution_count": 29,
   "id": "369c4c4d-bb97-4f65-a2fc-24fecb32a6e4",
   "metadata": {},
   "outputs": [],
   "source": [
    "def Ts_Stg_hold(sig, long_shrd, short_shrd):\n",
    "    long_point = pd.Series(1,sig[sig>long_shrd].index)\n",
    "    short_point = pd.Series(-1,sig[sig<short_shrd].index)\n",
    "    ls = pd.concat([\n",
    "        long_point,\n",
    "        short_point\n",
    "    ])\n",
    "    \n",
    "    return pd.Series(ls,index=sig.index).sort_index().ffill()"
   ]
  },
  {
   "cell_type": "code",
   "execution_count": 12,
   "id": "58b93287-514c-4b9c-8101-ac016afa5a32",
   "metadata": {},
   "outputs": [],
   "source": [
    "def cal(x,y):\n",
    "    slope, intercept = np.polyfit(x, y, 1)\n",
    "    # annualized_returns = math.pow(math.exp(slope), 250) - 1\n",
    "    r_squared = 1 - (sum((y - (slope * x + intercept))**2) / ((len(y) - 1) * np.var(y, ddof=1)))\n",
    "    score = slope * r_squared\n",
    "    \n",
    "    return score,r_squared"
   ]
  },
  {
   "cell_type": "code",
   "execution_count": 58,
   "id": "5f3db3d1-5821-43a3-9173-888a625ac2a5",
   "metadata": {},
   "outputs": [
    {
     "data": {
      "text/plain": [
       "2004-01-05    0.048899\n",
       "2004-01-06    0.014004\n",
       "2004-01-07    0.009898\n",
       "2004-01-08    0.015059\n",
       "2004-01-09   -0.018933\n",
       "                ...   \n",
       "2023-05-26   -0.001907\n",
       "2023-05-29   -0.004426\n",
       "2023-05-30   -0.005157\n",
       "2023-05-31   -0.016486\n",
       "2023-06-01    0.002803\n",
       "Name: 50, Length: 4715, dtype: float64"
      ]
     },
     "execution_count": 58,
     "metadata": {},
     "output_type": "execute_result"
    }
   ],
   "source": [
    "xy.Index_rets.loc['50',:].dropna()"
   ]
  },
  {
   "cell_type": "code",
   "execution_count": 65,
   "id": "fd8059b6-9ff9-4632-aa4f-8e03135156b2",
   "metadata": {},
   "outputs": [],
   "source": [
    "def loop(idx_name, day_win, Z_size, trd_shrd):\n",
    "    rsrs50d_10 = cal_rsrs_d(\n",
    "                        xy.index_low.T[idx_name].dropna(),\n",
    "                        xy.index_high.T[idx_name].dropna(),\n",
    "                        xy.op.T[idx_name].dropna(),\n",
    "                        xy.cl.T[idx_name].dropna(),\n",
    "                        day_win,\n",
    "                        idx_name)\n",
    "    \n",
    "    rsrs50_10_sm = rsrs50d_10.rolling(Z_size).apply(lambda x: (x[-1]-np.nanmean(x))/np.nanstd(x)).dropna().rolling(1).mean()\n",
    "    corr = ((rsrs50_10_sm/1)).corr( xy.Index_rets.loc[idx_name,rsrs50_10_sm.index])\n",
    "    pos = Ts_Stg_hold(((rsrs50_10_sm/1)), trd_shrd, -trd_shrd)\n",
    "\n",
    "    ((pos * xy.Index_rets.loc[idx_name,rsrs50_10_sm.index])).cumsum().rename('cumret').plot(figsize=(20,8),grid=True,legend=True)\n",
    "    (xy.Index_rets.loc[idx_name,rsrs50_10_sm.index]).cumsum().plot(secondary_y=True,figsize=(20,8),legend=True)\n",
    "    \n",
    "    ret = (pos * xy.Index_rets.loc[idx_name,:])\n",
    "    sharpe_no_cut = (ret.dropna().sum())/len(ret.dropna())*250 /  ((ret.dropna().std()* 250**0.5))\n",
    "\n",
    "    res_dct = {\n",
    "    '标的':idx_name,\n",
    "    '回归窗宽':day_win,\n",
    "    'Z值窗宽':Z_size,\n",
    "    'Z值阈值':trd_shrd,\n",
    "    '未扣费累计收益':ret.dropna().cumsum()[-1],\n",
    "    '扣费累计收益':ret.dropna().cumsum()[-1]-pos.diff().abs().sum()*0.0005,\n",
    "    '最大回撤':-xy.cal_downdraw(ret.dropna()),\n",
    "    '夏普':sharpe_no_cut,\n",
    "    '胜率':ret[ret>0].dropna().count() / ret[ret!=0].dropna().count(), \n",
    "    '盈亏比':ret[ret>0].sum() / ret[ret<0].sum(), \n",
    "    '交易次数':pos.diff().abs().sum(),\n",
    "    '时序ic':corr\n",
    "}\n",
    "    \n",
    "    \n",
    "    return res_dct,pd.concat([ret.rename('ret'),pos.rename('position')],axis=1)"
   ]
  },
  {
   "cell_type": "code",
   "execution_count": 66,
   "id": "01d245ef-34d1-4ee2-94a0-ee2adc2308a0",
   "metadata": {},
   "outputs": [],
   "source": [
    "from itertools import product\n",
    "import pandas as pd\n",
    "import matplotlib.pyplot as plt\n",
    "\n",
    "idx_names = ['50','300','500','1000']\n",
    "sample_sizes = [20,25,30,40]\n",
    "win_sizes = [20,60,120,240]\n",
    "open_shrds = [1,1.5,2,2.5,3]"
   ]
  },
  {
   "cell_type": "code",
   "execution_count": null,
   "id": "e7d0496a-74d1-473f-99b0-d8caae668b37",
   "metadata": {},
   "outputs": [],
   "source": []
  },
  {
   "cell_type": "code",
   "execution_count": null,
   "id": "1f36e16f-7dbb-4ae9-a16e-b7a14359fe96",
   "metadata": {
    "tags": []
   },
   "outputs": [],
   "source": [
    "# all_results = {}\n",
    "all_results_dfs = {}\n",
    "\n",
    "for idxn, ss, ws, os in tqdm(product(idx_names, sample_sizes, win_sizes, open_shrds)):\n",
    "    print(f'idx_names:{idxn}_sample_sizes:{ss}_win_sizes:{ws}_open_shrds:{os}')\n",
    "    res_dct, res_df = loop(idxn, ss, ws, os)\n",
    "\n",
    "\n",
    "    all_results[f'idx_names:{idxn}_sample_sizes:{ss}_win_sizes:{ws}_open_shrds:{os}'] = res_dct\n",
    "    res_df.to_csv(f'result/idx_names_{idxn}_sample_sizes_{ss}_win_sizes_{ws}_open_shrds_{os}.csv')\n",
    "    display(pd.DataFrame(pd.Series(res_dct)).T)\n",
    "    plt.show()\n"
   ]
  },
  {
   "cell_type": "code",
   "execution_count": null,
   "id": "28abf294-b8ea-4a47-b972-3d4442ebba09",
   "metadata": {},
   "outputs": [],
   "source": []
  }
 ],
 "metadata": {
  "kernelspec": {
   "display_name": "Python 3 (ipykernel)",
   "language": "python",
   "name": "python3"
  },
  "language_info": {
   "codemirror_mode": {
    "name": "ipython",
    "version": 3
   },
   "file_extension": ".py",
   "mimetype": "text/x-python",
   "name": "python",
   "nbconvert_exporter": "python",
   "pygments_lexer": "ipython3",
   "version": "3.10.11"
  }
 },
 "nbformat": 4,
 "nbformat_minor": 5
}
